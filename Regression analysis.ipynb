{
  "nbformat": 4,
  "nbformat_minor": 0,
  "metadata": {
    "colab": {
      "provenance": []
    },
    "kernelspec": {
      "name": "python3",
      "display_name": "Python 3"
    },
    "language_info": {
      "name": "python"
    }
  },
  "cells": [
    {
      "cell_type": "code",
      "execution_count": 18,
      "metadata": {
        "colab": {
          "base_uri": "https://localhost:8080/"
        },
        "id": "hEx_M3Azf82Z",
        "outputId": "482f0470-8c4c-4c7d-a0f2-f5000266c3c1"
      },
      "outputs": [
        {
          "output_type": "stream",
          "name": "stdout",
          "text": [
            "Requirement already satisfied: pandas in /usr/local/lib/python3.10/dist-packages (2.1.4)\n",
            "Requirement already satisfied: numpy<2,>=1.22.4 in /usr/local/lib/python3.10/dist-packages (from pandas) (1.26.4)\n",
            "Requirement already satisfied: python-dateutil>=2.8.2 in /usr/local/lib/python3.10/dist-packages (from pandas) (2.8.2)\n",
            "Requirement already satisfied: pytz>=2020.1 in /usr/local/lib/python3.10/dist-packages (from pandas) (2024.1)\n",
            "Requirement already satisfied: tzdata>=2022.1 in /usr/local/lib/python3.10/dist-packages (from pandas) (2024.1)\n",
            "Requirement already satisfied: six>=1.5 in /usr/local/lib/python3.10/dist-packages (from python-dateutil>=2.8.2->pandas) (1.16.0)\n"
          ]
        }
      ],
      "source": [
        "!pip install pandas\n"
      ]
    },
    {
      "cell_type": "code",
      "source": [
        "import pandas as pd\n",
        "import statsmodels.api as sm\n",
        "\n",
        "df = pd.read_csv('dataset.csv', encoding='cp1252')\n",
        "\n"
      ],
      "metadata": {
        "id": "1hTIvZLOiOVQ"
      },
      "execution_count": 19,
      "outputs": []
    },
    {
      "cell_type": "code",
      "source": [
        "print(df.columns)\n",
        "\n"
      ],
      "metadata": {
        "colab": {
          "base_uri": "https://localhost:8080/"
        },
        "id": "vgybGRlYxEA6",
        "outputId": "70943256-619c-49bf-d77e-dee5861a6006"
      },
      "execution_count": 20,
      "outputs": [
        {
          "output_type": "stream",
          "name": "stdout",
          "text": [
            "Index(['Country', 'Human Development Index (HDI) ', 'HDI Group', 'HDI rank',\n",
            "       'Life expectancy at birth (years)',\n",
            "       'Expected years of schooling (years)',\n",
            "       'Mean years of schooling (years)',\n",
            "       'Gross national income (GNI) per capita (2017 PPP $)',\n",
            "       'GNI per capita rank minus HDI rank', 'HDI rank 2018',\n",
            "       'Change in HDI rank (2014-2019)', 'Inequality-adjusted HDI',\n",
            "       'Gender Inequality Index',\n",
            "       'Maternal mortality ratio (2017, deaths per 100,000 live births)',\n",
            "       'Adolescent birth rate (2015-2020, births per 1,000 women ages 15–19)',\n",
            "       'Share of seats in parliament (% held by women)',\n",
            "       'Female population with at least some secondary education (2015-2019, % ages 25 and older)',\n",
            "       'Male population with at least some secondary education (2015-2019, % ages 25 and older)',\n",
            "       'Female labour force participation rate (% ages 15 and older)',\n",
            "       'Male labour force participation rate (% ages 15 and older)',\n",
            "       'Population (millions)',\n",
            "       'Average annual population growth 2015-2020 (%)',\n",
            "       'Urban population (%)', 'Population under age 5 years (millions)',\n",
            "       'Population age 15-64 years (millions)',\n",
            "       'Population age 65+ years (millions)', 'Median age (years)',\n",
            "       'Total fertility rate (2015-2020, births per woman)',\n",
            "       'Infants exclusively breastfed (2010-2019, % ages 0–5 months)',\n",
            "       'Infants lacking DTP immunization (% of one-year-olds)',\n",
            "       'Infants lacking measles immunization (% of one-year-olds)',\n",
            "       'Child malnutrition - stunting (moderate or severe) (2010-2019, % under age 5)',\n",
            "       'Infant mortality (2018, per 1,000 live births)',\n",
            "       'Child under 5y mortality (2018, per 1,000 live births)',\n",
            "       'Adult female mortality (2018, per 1,000 people)',\n",
            "       'Adult male mortality (2018, per 1,000 people)',\n",
            "       'Female mortality rate attributed to noncommunicable diseases (2016, per 100,000 people)',\n",
            "       'Male mortality rate attributed to noncommunicable diseases (2016, per 100,000 people)',\n",
            "       'Malaria incidence (2018, per 1,000 people at risk)',\n",
            "       'Tuberculosis incidence (2018, per 100,000 people)',\n",
            "       'HIV prevalence, adult (2018, % ages 15–49)',\n",
            "       'Healthy life expectancy at birth (years)',\n",
            "       'Current health expenditure (2017, % of GDP)',\n",
            "       'Adult literacy rate (2008-2018, % ages 15 and older)',\n",
            "       'Female youth literacy rate (2008-2018, % ages 15–24)',\n",
            "       'Male youth literacy rate (2008-2018, % ages 15–24)',\n",
            "       'Population with at least some secondary education (2015-2019, % ages 25 and older)',\n",
            "       'Pre-primary gross enrollment ratio (2014-2019, % of preschool-age children)',\n",
            "       'Primary gross enrollment ratio (2014-2019, % of primary school–age population)',\n",
            "       'Secondary gross enrollment ratio (2014-2019, % of secondary school–age population)',\n",
            "       'Tertiary gross enrollment ratio (2014-2019, % of tertiary school–age population)',\n",
            "       'Government expenditure on education  (2013-2018, % of GDP)',\n",
            "       'Total GDP (2017 PPP $ billions)',\n",
            "       'Per capita GDP (2017 PPP $ billions)',\n",
            "       'Annual growth in per capita GDP (%)',\n",
            "       'Total tax revenue (2014-2019, % of GDP)',\n",
            "       'Consumer price index (2010=100)',\n",
            "       'Employment to population ratio (% ages 15 and older)',\n",
            "       'Prison population (2013-2018, per 100,000 people)',\n",
            "       'Homicide rate (2013-2018, per 100,000 people)',\n",
            "       'Female suicide rate (2016, per 100,000 people)',\n",
            "       'Male suicide rate (2016, per 100,000 people)',\n",
            "       'Depth of food deficit (Average dietary energy supply adequacy, 2017/2019, %)',\n",
            "       'Exports and imports (% of GDP)',\n",
            "       'Net migration rate (2015/2020, per 1,000 people)',\n",
            "       'Stock of immigrants (% of population)',\n",
            "       'Internet users (2018, % of population)',\n",
            "       'Female internet users (2018, % of female population)',\n",
            "       'Mobile phone subscriptions (2018, per 100 people)',\n",
            "       'Mobile phone subscriptions (2010-2018, % change)'],\n",
            "      dtype='object')\n"
          ]
        }
      ]
    },
    {
      "cell_type": "markdown",
      "source": [
        "3"
      ],
      "metadata": {
        "id": "cG54NAyu5hnM"
      }
    },
    {
      "cell_type": "code",
      "source": [
        "print(df[['Human Development Index (HDI) ',\n",
        "          'Gender Inequality Index',\n",
        "          'Life expectancy at birth (years)',\n",
        "          'Population age 15-64 years (millions)',\n",
        "          'Gross national income (GNI) per capita (2017 PPP $)']].dtypes)\n"
      ],
      "metadata": {
        "colab": {
          "base_uri": "https://localhost:8080/"
        },
        "id": "LuyhGA7mzMHC",
        "outputId": "62ad540f-5fbd-44bf-e3a6-9102582aa871"
      },
      "execution_count": 21,
      "outputs": [
        {
          "output_type": "stream",
          "name": "stdout",
          "text": [
            "Human Development Index (HDI)                          object\n",
            "Gender Inequality Index                                object\n",
            "Life expectancy at birth (years)                       object\n",
            "Population age 15-64 years (millions)                  object\n",
            "Gross national income (GNI) per capita (2017 PPP $)    object\n",
            "dtype: object\n"
          ]
        }
      ]
    },
    {
      "cell_type": "code",
      "source": [
        "# Convert columns to numeric, forcing errors to NaN\n",
        "df['Human Development Index (HDI) '] = pd.to_numeric(df['Human Development Index (HDI) '], errors='coerce')\n",
        "df['Gender Inequality Index'] = pd.to_numeric(df['Gender Inequality Index'], errors='coerce')\n",
        "df['Life expectancy at birth (years)'] = pd.to_numeric(df['Life expectancy at birth (years)'], errors='coerce')\n",
        "df['Population age 15-64 years (millions)'] = pd.to_numeric(df['Population age 15-64 years (millions)'], errors='coerce')\n",
        "df['Gross national income (GNI) per capita (2017 PPP $)'] = pd.to_numeric(df['Gross national income (GNI) per capita (2017 PPP $)'], errors='coerce')\n"
      ],
      "metadata": {
        "id": "-ICvUODtzOD7"
      },
      "execution_count": 22,
      "outputs": []
    },
    {
      "cell_type": "code",
      "source": [
        "# Drop rows with NaN values\n",
        "df = df.dropna(subset=['Human Development Index (HDI) ',\n",
        "                       'Gender Inequality Index',\n",
        "                       'Life expectancy at birth (years)',\n",
        "                       'Population age 15-64 years (millions)',\n",
        "                       'Gross national income (GNI) per capita (2017 PPP $)'])\n"
      ],
      "metadata": {
        "id": "CBFr5MrTzReA"
      },
      "execution_count": 23,
      "outputs": []
    },
    {
      "cell_type": "code",
      "source": [
        "# Define your independent variables with the correct column names\n",
        "X = df[['Human Development Index (HDI) ',\n",
        "        'Gender Inequality Index',\n",
        "        'Life expectancy at birth (years)',\n",
        "        'Population age 15-64 years (millions)']]\n",
        "\n",
        "# Add a constant to the model (intercept)\n",
        "X = sm.add_constant(X)\n",
        "# Define your dependent variable\n",
        "y = df['Gross national income (GNI) per capita (2017 PPP $)']\n",
        "\n",
        "# Fit the model\n",
        "model = sm.OLS(y, X).fit()\n",
        "\n",
        "# Print the summary\n",
        "print(model.summary())\n"
      ],
      "metadata": {
        "colab": {
          "base_uri": "https://localhost:8080/"
        },
        "id": "U9b8DM9LzUra",
        "outputId": "20fc10a2-b915-4389-9d6e-a6a64047afcc"
      },
      "execution_count": 24,
      "outputs": [
        {
          "output_type": "stream",
          "name": "stdout",
          "text": [
            "                                             OLS Regression Results                                            \n",
            "===============================================================================================================\n",
            "Dep. Variable:     Gross national income (GNI) per capita (2017 PPP $)   R-squared:                       0.684\n",
            "Model:                                                             OLS   Adj. R-squared:                  0.676\n",
            "Method:                                                  Least Squares   F-statistic:                     84.85\n",
            "Date:                                                 Thu, 15 Aug 2024   Prob (F-statistic):           3.12e-38\n",
            "Time:                                                         17:00:42   Log-Likelihood:                -1741.0\n",
            "No. Observations:                                                  162   AIC:                             3492.\n",
            "Df Residuals:                                                      157   BIC:                             3508.\n",
            "Df Model:                                                            4                                         \n",
            "Covariance Type:                                             nonrobust                                         \n",
            "=========================================================================================================\n",
            "                                            coef    std err          t      P>|t|      [0.025      0.975]\n",
            "---------------------------------------------------------------------------------------------------------\n",
            "const                                  4862.5341   2.08e+04      0.233      0.816   -3.63e+04     4.6e+04\n",
            "Human Development Index (HDI)          8.552e+04   1.98e+04      4.329      0.000    4.65e+04    1.25e+05\n",
            "Gender Inequality Index               -3.777e+04   1.21e+04     -3.120      0.002   -6.17e+04   -1.39e+04\n",
            "Life expectancy at birth (years)       -458.8253    311.848     -1.471      0.143   -1074.784     157.134\n",
            "Population age 15-64 years (millions)    -6.5676      8.239     -0.797      0.427     -22.842       9.707\n",
            "==============================================================================\n",
            "Omnibus:                       70.466   Durbin-Watson:                   1.495\n",
            "Prob(Omnibus):                  0.000   Jarque-Bera (JB):              255.494\n",
            "Skew:                           1.676   Prob(JB):                     3.31e-56\n",
            "Kurtosis:                       8.158   Cond. No.                     3.18e+03\n",
            "==============================================================================\n",
            "\n",
            "Notes:\n",
            "[1] Standard Errors assume that the covariance matrix of the errors is correctly specified.\n",
            "[2] The condition number is large, 3.18e+03. This might indicate that there are\n",
            "strong multicollinearity or other numerical problems.\n"
          ]
        }
      ]
    },
    {
      "cell_type": "code",
      "source": [
        "import matplotlib.pyplot as plt\n",
        "\n",
        "plt.scatter(model.fittedvalues, model.resid)\n",
        "plt.axhline(y=0, color='r', linestyle='--')\n",
        "plt.xlabel('Fitted values')\n",
        "plt.ylabel('Residuals')\n",
        "plt.title('Residuals vs Fitted')\n",
        "plt.show()\n"
      ],
      "metadata": {
        "colab": {
          "base_uri": "https://localhost:8080/",
          "height": 472
        },
        "id": "wfviaHx_zhBM",
        "outputId": "d668595e-6df2-4508-d0d8-60783392157b"
      },
      "execution_count": 25,
      "outputs": [
        {
          "output_type": "display_data",
          "data": {
            "text/plain": [
              "<Figure size 640x480 with 1 Axes>"
            ],
            "image/png": "[encoded data removed]"
          },
          "metadata": {}
        }
      ]
    },
    {
      "cell_type": "code",
      "source": [
        "from statsmodels.stats.diagnostic import het_breuschpagan\n",
        "\n",
        "test = het_breuschpagan(model.resid, model.model.exog)\n",
        "labels = ['LM Statistic', 'LM Test p-value', 'F-Statistic', 'F-Test p-value']\n",
        "print(dict(zip(labels, test)))\n"
      ],
      "metadata": {
        "colab": {
          "base_uri": "https://localhost:8080/"
        },
        "id": "VXdmYzLqzjAU",
        "outputId": "94af7f98-2da4-4157-951b-4b1229c92920"
      },
      "execution_count": 26,
      "outputs": [
        {
          "output_type": "stream",
          "name": "stdout",
          "text": [
            "{'LM Statistic': 8.669127461722518, 'LM Test p-value': 0.06992328095234364, 'F-Statistic': 2.2191437851999827, 'F-Test p-value': 0.06935281133931234}\n"
          ]
        }
      ]
    },
    {
      "cell_type": "code",
      "source": [
        "sm.qqplot(model.resid, line ='45')\n",
        "plt.show()\n"
      ],
      "metadata": {
        "colab": {
          "base_uri": "https://localhost:8080/",
          "height": 449
        },
        "id": "VUyns6FWzoNt",
        "outputId": "3549f69d-f97b-4f08-a263-9ce5f3b01336"
      },
      "execution_count": 27,
      "outputs": [
        {
          "output_type": "display_data",
          "data": {
            "text/plain": [
              "<Figure size 640x480 with 1 Axes>"
            ],
            "image/png": "[encoded data removed]"
          },
          "metadata": {}
        }
      ]
    },
    {
      "cell_type": "code",
      "source": [
        "from statsmodels.stats.outliers_influence import variance_inflation_factor\n",
        "\n",
        "vif_data = pd.DataFrame()\n",
        "vif_data[\"feature\"] = X.columns\n",
        "vif_data[\"VIF\"] = [variance_inflation_factor(X.values, i) for i in range(len(X.columns))]\n",
        "print(vif_data)\n"
      ],
      "metadata": {
        "colab": {
          "base_uri": "https://localhost:8080/"
        },
        "id": "rRI5uioNzqNV",
        "outputId": "bf15d03f-6e3b-421c-929f-fdb55936bc47"
      },
      "execution_count": 28,
      "outputs": [
        {
          "output_type": "stream",
          "name": "stdout",
          "text": [
            "                                 feature         VIF\n",
            "0                                  const  539.100071\n",
            "1         Human Development Index (HDI)    10.658392\n",
            "2                Gender Inequality Index    6.586116\n",
            "3       Life expectancy at birth (years)    6.363189\n",
            "4  Population age 15-64 years (millions)    1.005062\n"
          ]
        }
      ]
    },
    {
      "cell_type": "code",
      "source": [
        "# Check the unique categories in the HDI Group column\n",
        "hdi_groups = df['HDI Group'].unique()\n",
        "print(hdi_groups)\n",
        "print(f\"Number of HDI categories: {len(hdi_groups)}\")\n"
      ],
      "metadata": {
        "colab": {
          "base_uri": "https://localhost:8080/"
        },
        "id": "8OI1JyxsAGmf",
        "outputId": "31701b69-4611-4e1e-8d42-32ec4baef7fd"
      },
      "execution_count": 29,
      "outputs": [
        {
          "output_type": "stream",
          "name": "stdout",
          "text": [
            "['Very high' 'High' 'Medium' 'Low']\n",
            "Number of HDI categories: 4\n"
          ]
        }
      ]
    },
    {
      "cell_type": "code",
      "source": [
        "df['HDI Group'] = pd.Categorical(df['HDI Group'], categories=['Low', 'Medium', 'High', 'Very high'], ordered=True)\n",
        "\n",
        "# Now create dummy variables, ensuring 'Low' is the reference category\n",
        "df = pd.get_dummies(df, columns=['HDI Group'], drop_first=True)\n",
        "\n",
        "# Check which dummy variables were created\n",
        "print(df.columns)\n",
        "\n"
      ],
      "metadata": {
        "colab": {
          "base_uri": "https://localhost:8080/"
        },
        "id": "fF5FhaCuATiA",
        "outputId": "73612cd6-1b07-4da2-ef1a-5fbae180c899"
      },
      "execution_count": 30,
      "outputs": [
        {
          "output_type": "stream",
          "name": "stdout",
          "text": [
            "Index(['Country', 'Human Development Index (HDI) ', 'HDI rank',\n",
            "       'Life expectancy at birth (years)',\n",
            "       'Expected years of schooling (years)',\n",
            "       'Mean years of schooling (years)',\n",
            "       'Gross national income (GNI) per capita (2017 PPP $)',\n",
            "       'GNI per capita rank minus HDI rank', 'HDI rank 2018',\n",
            "       'Change in HDI rank (2014-2019)', 'Inequality-adjusted HDI',\n",
            "       'Gender Inequality Index',\n",
            "       'Maternal mortality ratio (2017, deaths per 100,000 live births)',\n",
            "       'Adolescent birth rate (2015-2020, births per 1,000 women ages 15–19)',\n",
            "       'Share of seats in parliament (% held by women)',\n",
            "       'Female population with at least some secondary education (2015-2019, % ages 25 and older)',\n",
            "       'Male population with at least some secondary education (2015-2019, % ages 25 and older)',\n",
            "       'Female labour force participation rate (% ages 15 and older)',\n",
            "       'Male labour force participation rate (% ages 15 and older)',\n",
            "       'Population (millions)',\n",
            "       'Average annual population growth 2015-2020 (%)',\n",
            "       'Urban population (%)', 'Population under age 5 years (millions)',\n",
            "       'Population age 15-64 years (millions)',\n",
            "       'Population age 65+ years (millions)', 'Median age (years)',\n",
            "       'Total fertility rate (2015-2020, births per woman)',\n",
            "       'Infants exclusively breastfed (2010-2019, % ages 0–5 months)',\n",
            "       'Infants lacking DTP immunization (% of one-year-olds)',\n",
            "       'Infants lacking measles immunization (% of one-year-olds)',\n",
            "       'Child malnutrition - stunting (moderate or severe) (2010-2019, % under age 5)',\n",
            "       'Infant mortality (2018, per 1,000 live births)',\n",
            "       'Child under 5y mortality (2018, per 1,000 live births)',\n",
            "       'Adult female mortality (2018, per 1,000 people)',\n",
            "       'Adult male mortality (2018, per 1,000 people)',\n",
            "       'Female mortality rate attributed to noncommunicable diseases (2016, per 100,000 people)',\n",
            "       'Male mortality rate attributed to noncommunicable diseases (2016, per 100,000 people)',\n",
            "       'Malaria incidence (2018, per 1,000 people at risk)',\n",
            "       'Tuberculosis incidence (2018, per 100,000 people)',\n",
            "       'HIV prevalence, adult (2018, % ages 15–49)',\n",
            "       'Healthy life expectancy at birth (years)',\n",
            "       'Current health expenditure (2017, % of GDP)',\n",
            "       'Adult literacy rate (2008-2018, % ages 15 and older)',\n",
            "       'Female youth literacy rate (2008-2018, % ages 15–24)',\n",
            "       'Male youth literacy rate (2008-2018, % ages 15–24)',\n",
            "       'Population with at least some secondary education (2015-2019, % ages 25 and older)',\n",
            "       'Pre-primary gross enrollment ratio (2014-2019, % of preschool-age children)',\n",
            "       'Primary gross enrollment ratio (2014-2019, % of primary school–age population)',\n",
            "       'Secondary gross enrollment ratio (2014-2019, % of secondary school–age population)',\n",
            "       'Tertiary gross enrollment ratio (2014-2019, % of tertiary school–age population)',\n",
            "       'Government expenditure on education  (2013-2018, % of GDP)',\n",
            "       'Total GDP (2017 PPP $ billions)',\n",
            "       'Per capita GDP (2017 PPP $ billions)',\n",
            "       'Annual growth in per capita GDP (%)',\n",
            "       'Total tax revenue (2014-2019, % of GDP)',\n",
            "       'Consumer price index (2010=100)',\n",
            "       'Employment to population ratio (% ages 15 and older)',\n",
            "       'Prison population (2013-2018, per 100,000 people)',\n",
            "       'Homicide rate (2013-2018, per 100,000 people)',\n",
            "       'Female suicide rate (2016, per 100,000 people)',\n",
            "       'Male suicide rate (2016, per 100,000 people)',\n",
            "       'Depth of food deficit (Average dietary energy supply adequacy, 2017/2019, %)',\n",
            "       'Exports and imports (% of GDP)',\n",
            "       'Net migration rate (2015/2020, per 1,000 people)',\n",
            "       'Stock of immigrants (% of population)',\n",
            "       'Internet users (2018, % of population)',\n",
            "       'Female internet users (2018, % of female population)',\n",
            "       'Mobile phone subscriptions (2018, per 100 people)',\n",
            "       'Mobile phone subscriptions (2010-2018, % change)', 'HDI Group_Medium',\n",
            "       'HDI Group_High', 'HDI Group_Very high'],\n",
            "      dtype='object')\n"
          ]
        }
      ]
    },
    {
      "cell_type": "code",
      "source": [
        "# Check the data types of the columns\n",
        "print(df[['Gender Inequality Index',\n",
        "          'Life expectancy at birth (years)',\n",
        "          'Population age 15-64 years (millions)',\n",
        "          'HDI Group_Medium', 'HDI Group_High', 'HDI Group_Very high']].dtypes)\n",
        "\n"
      ],
      "metadata": {
        "colab": {
          "base_uri": "https://localhost:8080/"
        },
        "id": "E1x8XyrKD1Kz",
        "outputId": "ecb59248-4177-4de5-f90e-ec16eb18e0e4"
      },
      "execution_count": 31,
      "outputs": [
        {
          "output_type": "stream",
          "name": "stdout",
          "text": [
            "Gender Inequality Index                  float64\n",
            "Life expectancy at birth (years)         float64\n",
            "Population age 15-64 years (millions)    float64\n",
            "HDI Group_Medium                            bool\n",
            "HDI Group_High                              bool\n",
            "HDI Group_Very high                         bool\n",
            "dtype: object\n"
          ]
        }
      ]
    },
    {
      "cell_type": "code",
      "source": [
        "# Convert the columns to numeric, forcing errors to NaN (which can then be handled)\n",
        "df['Gender Inequality Index'] = pd.to_numeric(df['Gender Inequality Index'], errors='coerce')\n",
        "df['Life expectancy at birth (years)'] = pd.to_numeric(df['Life expectancy at birth (years)'], errors='coerce')\n",
        "df['Population age 15-64 years (millions)'] = pd.to_numeric(df['Population age 15-64 years (millions)'], errors='coerce')\n",
        "# Convert boolean columns to numeric\n",
        "df['HDI Group_Medium'] = df['HDI Group_Medium'].astype(int)\n",
        "df['HDI Group_High'] = df['HDI Group_High'].astype(int)\n",
        "df['HDI Group_Very high'] = df['HDI Group_Very high'].astype(int)\n",
        "\n"
      ],
      "metadata": {
        "id": "bs1KfNe2G1M_"
      },
      "execution_count": 32,
      "outputs": []
    },
    {
      "cell_type": "code",
      "source": [
        "# Check the data types to ensure all are numeric\n",
        "print(df[['Gender Inequality Index',\n",
        "          'Life expectancy at birth (years)',\n",
        "          'Population age 15-64 years (millions)',\n",
        "          'HDI Group_Medium', 'HDI Group_High', 'HDI Group_Very high']].dtypes)\n"
      ],
      "metadata": {
        "colab": {
          "base_uri": "https://localhost:8080/"
        },
        "id": "UocLVWcwHjrC",
        "outputId": "e763fa04-80fc-4bca-bdf2-e464fb436503"
      },
      "execution_count": 33,
      "outputs": [
        {
          "output_type": "stream",
          "name": "stdout",
          "text": [
            "Gender Inequality Index                  float64\n",
            "Life expectancy at birth (years)         float64\n",
            "Population age 15-64 years (millions)    float64\n",
            "HDI Group_Medium                           int64\n",
            "HDI Group_High                             int64\n",
            "HDI Group_Very high                        int64\n",
            "dtype: object\n"
          ]
        }
      ]
    },
    {
      "cell_type": "code",
      "source": [
        "# Drop rows with NaN values\n",
        "df = df.dropna(subset=['Gender Inequality Index',\n",
        "                       'Life expectancy at birth (years)',\n",
        "                       'Population age 15-64 years (millions)',\n",
        "                       'HDI Group_Medium', 'HDI Group_High', 'HDI Group_Very high'])\n"
      ],
      "metadata": {
        "id": "zV9FgsGJG4jn"
      },
      "execution_count": 34,
      "outputs": []
    },
    {
      "cell_type": "code",
      "source": [
        "# Define your independent variables\n",
        "X = df[['Gender Inequality Index',\n",
        "        'Life expectancy at birth (years)',\n",
        "        'Population age 15-64 years (millions)',\n",
        "        'HDI Group_Medium', 'HDI Group_High', 'HDI Group_Very high']]\n",
        "\n",
        "# Add a constant to the model (intercept)\n",
        "X = sm.add_constant(X)\n",
        "\n",
        "# Define your dependent variable\n",
        "y = df['Gross national income (GNI) per capita (2017 PPP $)']\n",
        "\n",
        "# Fit the model\n",
        "model = sm.OLS(y, X).fit()\n",
        "\n",
        "# Print the summary of the model\n",
        "print(model.summary())\n"
      ],
      "metadata": {
        "colab": {
          "base_uri": "https://localhost:8080/"
        },
        "id": "ptGe6JnbG7pO",
        "outputId": "d10bf01f-6ddc-44a0-ea45-6e8b9dcf6b55"
      },
      "execution_count": 35,
      "outputs": [
        {
          "output_type": "stream",
          "name": "stdout",
          "text": [
            "                                             OLS Regression Results                                            \n",
            "===============================================================================================================\n",
            "Dep. Variable:     Gross national income (GNI) per capita (2017 PPP $)   R-squared:                       0.736\n",
            "Model:                                                             OLS   Adj. R-squared:                  0.726\n",
            "Method:                                                  Least Squares   F-statistic:                     72.09\n",
            "Date:                                                 Thu, 15 Aug 2024   Prob (F-statistic):           2.41e-42\n",
            "Time:                                                         17:00:43   Log-Likelihood:                -1726.3\n",
            "No. Observations:                                                  162   AIC:                             3467.\n",
            "Df Residuals:                                                      155   BIC:                             3488.\n",
            "Df Model:                                                            6                                         \n",
            "Covariance Type:                                             nonrobust                                         \n",
            "=========================================================================================================\n",
            "                                            coef    std err          t      P>|t|      [0.025      0.975]\n",
            "---------------------------------------------------------------------------------------------------------\n",
            "const                                 -5428.5966   1.97e+04     -0.275      0.784   -4.44e+04    3.36e+04\n",
            "Gender Inequality Index               -3.498e+04   1.05e+04     -3.339      0.001   -5.57e+04   -1.43e+04\n",
            "Life expectancy at birth (years)        461.6654    254.551      1.814      0.072     -41.171     964.501\n",
            "Population age 15-64 years (millions)    -0.0110      7.664     -0.001      0.999     -15.150      15.128\n",
            "HDI Group_Medium                      -3306.5352   3199.464     -1.033      0.303   -9626.715    3013.644\n",
            "HDI Group_High                        -3446.7064   3860.354     -0.893      0.373   -1.11e+04    4178.988\n",
            "HDI Group_Very high                    1.558e+04   5214.288      2.988      0.003    5278.007    2.59e+04\n",
            "==============================================================================\n",
            "Omnibus:                       60.766   Durbin-Watson:                   1.878\n",
            "Prob(Omnibus):                  0.000   Jarque-Bera (JB):              230.338\n",
            "Skew:                           1.390   Prob(JB):                     9.61e-51\n",
            "Kurtosis:                       8.138   Cond. No.                     2.99e+03\n",
            "==============================================================================\n",
            "\n",
            "Notes:\n",
            "[1] Standard Errors assume that the covariance matrix of the errors is correctly specified.\n",
            "[2] The condition number is large, 2.99e+03. This might indicate that there are\n",
            "strong multicollinearity or other numerical problems.\n"
          ]
        }
      ]
    },
    {
      "cell_type": "code",
      "source": [
        "df = pd.read_csv('dataset.csv', encoding='cp1252')\n"
      ],
      "metadata": {
        "id": "efcA-IGhHwIm"
      },
      "execution_count": 40,
      "outputs": []
    },
    {
      "cell_type": "code",
      "source": [
        "# Reorder the HDI Group to make 'Very High' the reference category\n",
        "df['HDI Group'] = pd.Categorical(df['HDI Group'], categories=['Very high', 'Low', 'Medium', 'High'], ordered=True)\n",
        "\n",
        "# Create dummy variables again, this time 'Very High' will be the reference category (and thus not included in the dummy variables)\n",
        "df = pd.get_dummies(df, columns=['HDI Group'], drop_first=True)\n",
        "\n",
        "# Check to see which columns were created\n",
        "print(df.columns)\n"
      ],
      "metadata": {
        "colab": {
          "base_uri": "https://localhost:8080/"
        },
        "id": "-NlUqgSGAHPa",
        "outputId": "f0ffaf34-6398-4924-9543-0dd828fc62aa"
      },
      "execution_count": 41,
      "outputs": [
        {
          "output_type": "stream",
          "name": "stdout",
          "text": [
            "Index(['Country', 'Human Development Index (HDI) ', 'HDI rank',\n",
            "       'Life expectancy at birth (years)',\n",
            "       'Expected years of schooling (years)',\n",
            "       'Mean years of schooling (years)',\n",
            "       'Gross national income (GNI) per capita (2017 PPP $)',\n",
            "       'GNI per capita rank minus HDI rank', 'HDI rank 2018',\n",
            "       'Change in HDI rank (2014-2019)', 'Inequality-adjusted HDI',\n",
            "       'Gender Inequality Index',\n",
            "       'Maternal mortality ratio (2017, deaths per 100,000 live births)',\n",
            "       'Adolescent birth rate (2015-2020, births per 1,000 women ages 15–19)',\n",
            "       'Share of seats in parliament (% held by women)',\n",
            "       'Female population with at least some secondary education (2015-2019, % ages 25 and older)',\n",
            "       'Male population with at least some secondary education (2015-2019, % ages 25 and older)',\n",
            "       'Female labour force participation rate (% ages 15 and older)',\n",
            "       'Male labour force participation rate (% ages 15 and older)',\n",
            "       'Population (millions)',\n",
            "       'Average annual population growth 2015-2020 (%)',\n",
            "       'Urban population (%)', 'Population under age 5 years (millions)',\n",
            "       'Population age 15-64 years (millions)',\n",
            "       'Population age 65+ years (millions)', 'Median age (years)',\n",
            "       'Total fertility rate (2015-2020, births per woman)',\n",
            "       'Infants exclusively breastfed (2010-2019, % ages 0–5 months)',\n",
            "       'Infants lacking DTP immunization (% of one-year-olds)',\n",
            "       'Infants lacking measles immunization (% of one-year-olds)',\n",
            "       'Child malnutrition - stunting (moderate or severe) (2010-2019, % under age 5)',\n",
            "       'Infant mortality (2018, per 1,000 live births)',\n",
            "       'Child under 5y mortality (2018, per 1,000 live births)',\n",
            "       'Adult female mortality (2018, per 1,000 people)',\n",
            "       'Adult male mortality (2018, per 1,000 people)',\n",
            "       'Female mortality rate attributed to noncommunicable diseases (2016, per 100,000 people)',\n",
            "       'Male mortality rate attributed to noncommunicable diseases (2016, per 100,000 people)',\n",
            "       'Malaria incidence (2018, per 1,000 people at risk)',\n",
            "       'Tuberculosis incidence (2018, per 100,000 people)',\n",
            "       'HIV prevalence, adult (2018, % ages 15–49)',\n",
            "       'Healthy life expectancy at birth (years)',\n",
            "       'Current health expenditure (2017, % of GDP)',\n",
            "       'Adult literacy rate (2008-2018, % ages 15 and older)',\n",
            "       'Female youth literacy rate (2008-2018, % ages 15–24)',\n",
            "       'Male youth literacy rate (2008-2018, % ages 15–24)',\n",
            "       'Population with at least some secondary education (2015-2019, % ages 25 and older)',\n",
            "       'Pre-primary gross enrollment ratio (2014-2019, % of preschool-age children)',\n",
            "       'Primary gross enrollment ratio (2014-2019, % of primary school–age population)',\n",
            "       'Secondary gross enrollment ratio (2014-2019, % of secondary school–age population)',\n",
            "       'Tertiary gross enrollment ratio (2014-2019, % of tertiary school–age population)',\n",
            "       'Government expenditure on education  (2013-2018, % of GDP)',\n",
            "       'Total GDP (2017 PPP $ billions)',\n",
            "       'Per capita GDP (2017 PPP $ billions)',\n",
            "       'Annual growth in per capita GDP (%)',\n",
            "       'Total tax revenue (2014-2019, % of GDP)',\n",
            "       'Consumer price index (2010=100)',\n",
            "       'Employment to population ratio (% ages 15 and older)',\n",
            "       'Prison population (2013-2018, per 100,000 people)',\n",
            "       'Homicide rate (2013-2018, per 100,000 people)',\n",
            "       'Female suicide rate (2016, per 100,000 people)',\n",
            "       'Male suicide rate (2016, per 100,000 people)',\n",
            "       'Depth of food deficit (Average dietary energy supply adequacy, 2017/2019, %)',\n",
            "       'Exports and imports (% of GDP)',\n",
            "       'Net migration rate (2015/2020, per 1,000 people)',\n",
            "       'Stock of immigrants (% of population)',\n",
            "       'Internet users (2018, % of population)',\n",
            "       'Female internet users (2018, % of female population)',\n",
            "       'Mobile phone subscriptions (2018, per 100 people)',\n",
            "       'Mobile phone subscriptions (2010-2018, % change)', 'HDI Group_Low',\n",
            "       'HDI Group_Medium', 'HDI Group_High'],\n",
            "      dtype='object')\n"
          ]
        }
      ]
    },
    {
      "cell_type": "code",
      "source": [
        "# Check the data types of all relevant columns\n",
        "print(df[['Gender Inequality Index',\n",
        "          'Life expectancy at birth (years)',\n",
        "          'Population age 15-64 years (millions)',\n",
        "          'HDI Group_Low', 'HDI Group_Medium', 'HDI Group_High',\n",
        "          'Gross national income (GNI) per capita (2017 PPP $)']].dtypes)\n"
      ],
      "metadata": {
        "colab": {
          "base_uri": "https://localhost:8080/"
        },
        "id": "F-jkn1w8AO63",
        "outputId": "7ad65efc-b0bf-4f5e-c50f-69a8ac0607fe"
      },
      "execution_count": 42,
      "outputs": [
        {
          "output_type": "stream",
          "name": "stdout",
          "text": [
            "Gender Inequality Index                                object\n",
            "Life expectancy at birth (years)                       object\n",
            "Population age 15-64 years (millions)                  object\n",
            "HDI Group_Low                                            bool\n",
            "HDI Group_Medium                                         bool\n",
            "HDI Group_High                                           bool\n",
            "Gross national income (GNI) per capita (2017 PPP $)    object\n",
            "dtype: object\n"
          ]
        }
      ]
    },
    {
      "cell_type": "code",
      "source": [
        "# Convert the columns to numeric, forcing errors to NaN (which can then be handled)\n",
        "df['Gender Inequality Index'] = pd.to_numeric(df['Gender Inequality Index'], errors='coerce')\n",
        "df['Life expectancy at birth (years)'] = pd.to_numeric(df['Life expectancy at birth (years)'], errors='coerce')\n",
        "df['Population age 15-64 years (millions)'] = pd.to_numeric(df['Population age 15-64 years (millions)'], errors='coerce')\n",
        "# Convert boolean columns to numeric\n",
        "df['HDI Group_Medium'] = df['HDI Group_Medium'].astype(int)\n",
        "df['HDI Group_High'] = df['HDI Group_High'].astype(int)\n",
        "df['HDI Group_Low'] = df['HDI Group_Low'].astype(int)\n",
        "df['Gross national income (GNI) per capita (2017 PPP $)'] = pd.to_numeric(df['Gross national income (GNI) per capita (2017 PPP $)'], errors='coerce')"
      ],
      "metadata": {
        "id": "6UvQcMdpAqvf"
      },
      "execution_count": 47,
      "outputs": []
    },
    {
      "cell_type": "code",
      "source": [
        "# Drop rows with NaN values or handle them appropriately\n",
        "df = df.dropna(subset=['Gender Inequality Index',\n",
        "                       'Life expectancy at birth (years)',\n",
        "                       'Population age 15-64 years (millions)',\n",
        "                       'HDI Group_Low', 'HDI Group_Medium', 'HDI Group_High',\n",
        "                       'Gross national income (GNI) per capita (2017 PPP $)'])\n"
      ],
      "metadata": {
        "id": "sPfKRVw0A3PK"
      },
      "execution_count": 48,
      "outputs": []
    },
    {
      "cell_type": "code",
      "source": [
        "# Verify that all columns are now numeric\n",
        "print(df[['Gender Inequality Index',\n",
        "          'Life expectancy at birth (years)',\n",
        "          'Population age 15-64 years (millions)',\n",
        "          'HDI Group_Low', 'HDI Group_Medium', 'HDI Group_High',\n",
        "          'Gross national income (GNI) per capita (2017 PPP $)']].dtypes)\n"
      ],
      "metadata": {
        "colab": {
          "base_uri": "https://localhost:8080/"
        },
        "id": "ZqEg1syaA8fO",
        "outputId": "321b55c8-a695-464f-cc5a-6bf13360f30a"
      },
      "execution_count": 49,
      "outputs": [
        {
          "output_type": "stream",
          "name": "stdout",
          "text": [
            "Gender Inequality Index                                float64\n",
            "Life expectancy at birth (years)                       float64\n",
            "Population age 15-64 years (millions)                  float64\n",
            "HDI Group_Low                                            int64\n",
            "HDI Group_Medium                                         int64\n",
            "HDI Group_High                                           int64\n",
            "Gross national income (GNI) per capita (2017 PPP $)    float64\n",
            "dtype: object\n"
          ]
        }
      ]
    },
    {
      "cell_type": "code",
      "source": [
        "# Define your independent variables\n",
        "X = df[['Gender Inequality Index',\n",
        "        'Life expectancy at birth (years)',\n",
        "        'Population age 15-64 years (millions)',\n",
        "        'HDI Group_Low', 'HDI Group_Medium', 'HDI Group_High']]\n",
        "\n",
        "# Add a constant to the model (intercept)\n",
        "X = sm.add_constant(X)\n",
        "\n",
        "# Define your dependent variable\n",
        "y = df['Gross national income (GNI) per capita (2017 PPP $)']\n",
        "\n",
        "# Fit the model\n",
        "model = sm.OLS(y, X).fit()\n",
        "\n",
        "# Print the summary of the model\n",
        "print(model.summary())\n",
        "\n"
      ],
      "metadata": {
        "colab": {
          "base_uri": "https://localhost:8080/"
        },
        "id": "1zeBRqsgA-Vt",
        "outputId": "9efdf57f-878b-48f4-c306-7e3f0b021284"
      },
      "execution_count": 50,
      "outputs": [
        {
          "output_type": "stream",
          "name": "stdout",
          "text": [
            "                                             OLS Regression Results                                            \n",
            "===============================================================================================================\n",
            "Dep. Variable:     Gross national income (GNI) per capita (2017 PPP $)   R-squared:                       0.736\n",
            "Model:                                                             OLS   Adj. R-squared:                  0.726\n",
            "Method:                                                  Least Squares   F-statistic:                     72.09\n",
            "Date:                                                 Thu, 15 Aug 2024   Prob (F-statistic):           2.41e-42\n",
            "Time:                                                         17:12:17   Log-Likelihood:                -1726.3\n",
            "No. Observations:                                                  162   AIC:                             3467.\n",
            "Df Residuals:                                                      155   BIC:                             3488.\n",
            "Df Model:                                                            6                                         \n",
            "Covariance Type:                                             nonrobust                                         \n",
            "=========================================================================================================\n",
            "                                            coef    std err          t      P>|t|      [0.025      0.975]\n",
            "---------------------------------------------------------------------------------------------------------\n",
            "const                                  1.015e+04   2.11e+04      0.481      0.631   -3.15e+04    5.18e+04\n",
            "Gender Inequality Index               -3.498e+04   1.05e+04     -3.339      0.001   -5.57e+04   -1.43e+04\n",
            "Life expectancy at birth (years)        461.6654    254.551      1.814      0.072     -41.171     964.501\n",
            "Population age 15-64 years (millions)    -0.0110      7.664     -0.001      0.999     -15.150      15.128\n",
            "HDI Group_Low                         -1.558e+04   5214.288     -2.988      0.003   -2.59e+04   -5278.007\n",
            "HDI Group_Medium                      -1.888e+04   4001.807     -4.719      0.000   -2.68e+04    -1.1e+04\n",
            "HDI Group_High                        -1.902e+04   2828.801     -6.725      0.000   -2.46e+04   -1.34e+04\n",
            "==============================================================================\n",
            "Omnibus:                       60.766   Durbin-Watson:                   1.878\n",
            "Prob(Omnibus):                  0.000   Jarque-Bera (JB):              230.338\n",
            "Skew:                           1.390   Prob(JB):                     9.61e-51\n",
            "Kurtosis:                       8.138   Cond. No.                     3.10e+03\n",
            "==============================================================================\n",
            "\n",
            "Notes:\n",
            "[1] Standard Errors assume that the covariance matrix of the errors is correctly specified.\n",
            "[2] The condition number is large, 3.1e+03. This might indicate that there are\n",
            "strong multicollinearity or other numerical problems.\n"
          ]
        }
      ]
    },
    {
      "cell_type": "code",
      "source": [
        "# Create interaction terms between HDI groups and GII\n",
        "df['Interaction_Low_GII'] = df['HDI Group_Low'] * df['Gender Inequality Index']\n",
        "df['Interaction_Medium_GII'] = df['HDI Group_Medium'] * df['Gender Inequality Index']\n",
        "df['Interaction_High_GII'] = df['HDI Group_High'] * df['Gender Inequality Index']\n"
      ],
      "metadata": {
        "id": "7xDJTvz0GfqG"
      },
      "execution_count": 51,
      "outputs": []
    },
    {
      "cell_type": "code",
      "source": [
        "# Define the independent variables including the interaction terms\n",
        "X = df[['Gender Inequality Index',\n",
        "        'Life expectancy at birth (years)',\n",
        "        'Population age 15-64 years (millions)',\n",
        "        'HDI Group_Low', 'HDI Group_Medium', 'HDI Group_High',\n",
        "        'Interaction_Low_GII', 'Interaction_Medium_GII', 'Interaction_High_GII']]\n",
        "\n",
        "# Add a constant to the model (intercept)\n",
        "X = sm.add_constant(X)\n",
        "\n",
        "# Define the dependent variable\n",
        "y = df['Gross national income (GNI) per capita (2017 PPP $)']\n",
        "\n",
        "# Fit the model\n",
        "model = sm.OLS(y, X).fit()\n",
        "\n",
        "# Print the summary of the model\n",
        "print(model.summary())\n"
      ],
      "metadata": {
        "colab": {
          "base_uri": "https://localhost:8080/"
        },
        "id": "SFLKvWmWG0xB",
        "outputId": "f4ec5729-73ee-4d5a-b8c3-3a9953181bce"
      },
      "execution_count": 52,
      "outputs": [
        {
          "output_type": "stream",
          "name": "stdout",
          "text": [
            "                                             OLS Regression Results                                            \n",
            "===============================================================================================================\n",
            "Dep. Variable:     Gross national income (GNI) per capita (2017 PPP $)   R-squared:                       0.772\n",
            "Model:                                                             OLS   Adj. R-squared:                  0.759\n",
            "Method:                                                  Least Squares   F-statistic:                     57.34\n",
            "Date:                                                 Thu, 15 Aug 2024   Prob (F-statistic):           2.04e-44\n",
            "Time:                                                         17:35:01   Log-Likelihood:                -1714.4\n",
            "No. Observations:                                                  162   AIC:                             3449.\n",
            "Df Residuals:                                                      152   BIC:                             3480.\n",
            "Df Model:                                                            9                                         \n",
            "Covariance Type:                                             nonrobust                                         \n",
            "=========================================================================================================\n",
            "                                            coef    std err          t      P>|t|      [0.025      0.975]\n",
            "---------------------------------------------------------------------------------------------------------\n",
            "const                                  2.169e+04   2.04e+04      1.061      0.291   -1.87e+04    6.21e+04\n",
            "Gender Inequality Index               -8.243e+04   1.39e+04     -5.926      0.000    -1.1e+05   -5.49e+04\n",
            "Life expectancy at birth (years)        408.8524    245.086      1.668      0.097     -75.362     893.067\n",
            "Population age 15-64 years (millions)     2.6840      7.288      0.368      0.713     -11.714      17.082\n",
            "HDI Group_Low                         -4.933e+04   1.55e+04     -3.184      0.002   -7.99e+04   -1.87e+04\n",
            "HDI Group_Medium                      -4.788e+04   1.17e+04     -4.096      0.000    -7.1e+04   -2.48e+04\n",
            "HDI Group_High                        -3.845e+04   6541.483     -5.878      0.000   -5.14e+04   -2.55e+04\n",
            "Interaction_Low_GII                    8.987e+04   2.81e+04      3.194      0.002    3.43e+04    1.45e+05\n",
            "Interaction_Medium_GII                  9.03e+04   2.66e+04      3.401      0.001    3.78e+04    1.43e+05\n",
            "Interaction_High_GII                   7.989e+04   2.07e+04      3.869      0.000    3.91e+04    1.21e+05\n",
            "==============================================================================\n",
            "Omnibus:                       80.198   Durbin-Watson:                   2.145\n",
            "Prob(Omnibus):                  0.000   Jarque-Bera (JB):              477.270\n",
            "Skew:                           1.714   Prob(JB):                    2.30e-104\n",
            "Kurtosis:                      10.678   Cond. No.                     5.27e+03\n",
            "==============================================================================\n",
            "\n",
            "Notes:\n",
            "[1] Standard Errors assume that the covariance matrix of the errors is correctly specified.\n",
            "[2] The condition number is large, 5.27e+03. This might indicate that there are\n",
            "strong multicollinearity or other numerical problems.\n"
          ]
        }
      ]
    }
  ]
}